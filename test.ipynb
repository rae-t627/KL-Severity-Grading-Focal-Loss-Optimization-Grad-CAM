{
 "cells": [
  {
   "cell_type": "markdown",
   "metadata": {},
   "source": [
    "#1. Import modules"
   ]
  },
  {
   "cell_type": "code",
   "execution_count": 1,
   "metadata": {
    "colab": {},
    "colab_type": "code",
    "executionInfo": {
     "elapsed": 1389,
     "status": "ok",
     "timestamp": 1593417151055,
     "user": {
      "displayName": "Alexey M.",
      "photoUrl": "",
      "userId": "13008728338773453082"
     },
     "user_tz": -180
    },
    "id": "Y9PwncccuAVk"
   },
   "outputs": [],
   "source": [
    "from torchvision import transforms\n",
    "from torchvision import datasets\n",
    "import numpy as np\n",
    "import PIL\n",
    "import torch\n",
    "import torch.nn as nn\n",
    "import torchvision.datasets as dset\n",
    "\n",
    "import torch.utils.data\n",
    "import torchvision\n",
    "import argparse\n"
   ]
  },
  {
   "cell_type": "markdown",
   "metadata": {},
   "source": [
    "#2. Set main parameters "
   ]
  },
  {
   "cell_type": "code",
   "execution_count": 2,
   "metadata": {},
   "outputs": [],
   "source": [
    "parser = argparse.ArgumentParser(description='Compute accuracy of model')\n",
    "parser.add_argument('-m', '--model', type=str, choices = [\"densenet\", \"resnet\"], default=\"resnet\")\n",
    "parser.add_argument('-w', '--weights', type = str, help = \"path to weights\", default=None)\n",
    "parser.add_argument('-d', '--dataset', type = str, help = \"path to test dataset\", default='dataset/test')\n",
    "parser.add_argument('-b', '--batch-size', type=int, choices=[16, 32, 64, 128, 256], default=32)\n",
    "\n",
    "args = parser.parse_args(\"-m resnet -w /home/user/Documents/PRML_Project/grading-knee-oa-using-se-networks/models/resnet_ce/resNet_CE/best_model.ckpt\".split())"
   ]
  },
  {
   "cell_type": "code",
   "execution_count": 3,
   "metadata": {},
   "outputs": [],
   "source": [
    "batch_size = args.batch_size\n",
    "frame_size = (224, 224)\n",
    "\n",
    "# choose torch device\n",
    "if torch.cuda.is_available():\n",
    "    device = 'cuda:0'\n",
    "else:\n",
    "    device = 'cpu'\n"
   ]
  },
  {
   "cell_type": "markdown",
   "metadata": {},
   "source": [
    "#2.1. Choose architecture and model checkpoint"
   ]
  },
  {
   "cell_type": "code",
   "execution_count": 4,
   "metadata": {},
   "outputs": [
    {
     "data": {
      "text/plain": [
       "<All keys matched successfully>"
      ]
     },
     "execution_count": 4,
     "metadata": {},
     "output_type": "execute_result"
    }
   ],
   "source": [
    "import custom_resnets\n",
    "import custom_densenets\n",
    "\n",
    "# set number of OA grades and dataset directory\n",
    "dataset_dir = args.dataset\n",
    "n_classes = 5\n",
    "\n",
    "# choose an architecture\n",
    "if (args.model == \"densenet\"):\n",
    "    cnn_model = custom_densenets.se_densenet121_model(n_classes)\n",
    "else:\n",
    "    cnn_model = custom_resnets.se_resnet18_model(n_classes)\n",
    "\n",
    "# example loading existing models\n",
    "cnn_model.load_state_dict(torch.load(args.weights, map_location=torch.device(device)))"
   ]
  },
  {
   "cell_type": "markdown",
   "metadata": {},
   "source": [
    "#3. Prepare dataset"
   ]
  },
  {
   "cell_type": "code",
   "execution_count": 5,
   "metadata": {
    "colab": {},
    "colab_type": "code",
    "executionInfo": {
     "elapsed": 1328,
     "status": "ok",
     "timestamp": 1593417151071,
     "user": {
      "displayName": "Alexey M.",
      "photoUrl": "",
      "userId": "13008728338773453082"
     },
     "user_tz": -180
    },
    "id": "WbDs8teYugfO"
   },
   "outputs": [],
   "source": [
    "from torch.utils.data.sampler import SequentialSampler\n",
    "\n",
    "transforms_to_test = transforms.Compose([\n",
    "  transforms.Resize(frame_size), \n",
    "  transforms.ToTensor(),\n",
    "  transforms.Normalize(mean=(0.5, 0.5, 0.5), std=(0.5, 0.5, 0.5))\n",
    "])\n",
    "\n",
    "test_dataset = datasets.ImageFolder(dataset_dir, transform=transforms_to_test)\n",
    "test_idx = list(range(len(test_dataset.imgs)))\n",
    "test_sampler = SequentialSampler(test_idx)\n",
    "test_loader = torch.utils.data.DataLoader(test_dataset, batch_size=batch_size, sampler=test_sampler)\n"
   ]
  },
  {
   "cell_type": "markdown",
   "metadata": {},
   "source": [
    "#4. Check accuracy"
   ]
  },
  {
   "cell_type": "code",
   "execution_count": 6,
   "metadata": {
    "cellView": "both",
    "colab": {
     "base_uri": "https://localhost:8080/",
     "height": 51
    },
    "colab_type": "code",
    "executionInfo": {
     "elapsed": 529445,
     "status": "ok",
     "timestamp": 1593417679206,
     "user": {
      "displayName": "Alexey M.",
      "photoUrl": "",
      "userId": "13008728338773453082"
     },
     "user_tz": -180
    },
    "id": "c6PgVEN-Bl97",
    "outputId": "ba683d93-a900-4ac0-bf26-e57ff33e189a"
   },
   "outputs": [
    {
     "name": "stdout",
     "output_type": "stream",
     "text": [
      "parameters number:  11266117\n",
      "trainable parameters number:  11266117\n",
      "compute accuracy...\n",
      "test accuracy: 68.1159420289855\n"
     ]
    }
   ],
   "source": [
    "import utils\n",
    "\n",
    "# prepare model to cpu/gpu calc.\n",
    "if torch.cuda.is_available():\n",
    "    cnn_model.type(torch.cuda.FloatTensor)\n",
    "else:\n",
    "    cnn_model.type(torch.FloatTensor)\n",
    "    \n",
    "# model information\n",
    "total_params = sum(p.numel() for p in cnn_model.parameters())\n",
    "total_trainable_params = sum(p.numel() for p in cnn_model.parameters() if p.requires_grad)\n",
    "print(\"parameters number: \", total_params)\n",
    "print(\"trainable parameters number: \", total_trainable_params)\n",
    "\n",
    "predictions = []\n",
    "raw_predictions = []\n",
    "ground_truth = []\n",
    "\n",
    "with torch.no_grad():\n",
    "  print(\"compute accuracy...\")\n",
    "  test_accuracy, predictions, ground_truth, raw_predictions = utils.compute_accuracy(cnn_model, test_loader)\n",
    "  print(\"test accuracy:\", test_accuracy)\n"
   ]
  },
  {
   "cell_type": "markdown",
   "metadata": {},
   "source": [
    "#5. Calculate metrics"
   ]
  },
  {
   "cell_type": "code",
   "execution_count": 7,
   "metadata": {
    "colab": {
     "base_uri": "https://localhost:8080/",
     "height": 0
    },
    "colab_type": "code",
    "executionInfo": {
     "elapsed": 529840,
     "status": "ok",
     "timestamp": 1593417679614,
     "user": {
      "displayName": "Alexey M.",
      "photoUrl": "",
      "userId": "13008728338773453082"
     },
     "user_tz": -180
    },
    "id": "4-3XHWWp_nXr",
    "outputId": "6eb9cb59-6200-410c-efdc-af0d3bc05aee"
   },
   "outputs": [
    {
     "name": "stderr",
     "output_type": "stream",
     "text": [
      "/home/user/miniconda3/envs/yolov3env/lib/python3.10/site-packages/scipy/__init__.py:146: UserWarning: A NumPy version >=1.16.5 and <1.23.0 is required for this version of SciPy (detected version 1.23.0\n",
      "  warnings.warn(f\"A NumPy version >={np_minversion} and <{np_maxversion}\"\n"
     ]
    },
    {
     "name": "stdout",
     "output_type": "stream",
     "text": [
      "Mean \n",
      "  precision: 63.67065825591111 \n",
      "  recall: 68.11594202898551, \n",
      "  accuracy: 68.11594202898551, \n",
      "  f1_score: 64.69296980415457\n",
      "\n",
      "\n",
      "rows is precision, recall, fscore and support:\n",
      "|          0 |          1 |          2 |          3 |         4 |\n",
      "|------------+------------+------------+------------+-----------|\n",
      "|   0.70744  |   0.318182 |   0.654945 |   0.772358 |  0.846154 |\n",
      "|   0.877934 |   0.118243 |   0.666667 |   0.852018 |  0.862745 |\n",
      "|   0.78352  |   0.172414 |   0.660754 |   0.810235 |  0.854369 |\n",
      "| 639        | 296        | 447        | 223        | 51        |\n",
      "\n",
      "\n",
      "per-class accuracy:\n",
      "|       0 |       1 |       2 |       3 |       4 |\n",
      "|---------+---------+---------+---------+---------|\n",
      "| 87.7934 | 11.8243 | 66.6667 | 85.2018 | 86.2745 |\n"
     ]
    }
   ],
   "source": [
    "import sklearn.metrics as metrics\n",
    "from sklearn.metrics import confusion_matrix\n",
    "\n",
    "def performance_matrix(true, pred):\n",
    "    precision = metrics.precision_score(true,pred,average='weighted')\n",
    "    recall = metrics.recall_score(true,pred,average='weighted') # average='weighted'\n",
    "    accuracy = metrics.accuracy_score(true,pred)\n",
    "    f1_score = metrics.f1_score(true,pred,average='weighted')\n",
    "    print('Mean \\n  precision: {} \\n  recall: {}, \\n  accuracy: {}, \\n  f1_score: {}'.format(precision*100,recall*100,accuracy*100,f1_score*100))\n",
    "\n",
    "performance_matrix(ground_truth, predictions)\n",
    "\n",
    "\n",
    "from tabulate import tabulate\n",
    "from sklearn.metrics import precision_recall_fscore_support as score\n",
    "precision, recall, fscore, support = score(ground_truth, predictions)\n",
    "\n",
    "print('\\n')\n",
    "print('rows is precision, recall, fscore and support:')\n",
    "print(tabulate([precision, recall, fscore, support], headers=['0' , '1' , '2' , '3', '4'], tablefmt='orgtbl'))\n",
    "\n",
    "print('\\n')\n",
    "print('per-class accuracy:')\n",
    "cm = confusion_matrix(ground_truth, predictions)\n",
    "cm = cm.astype('float')*100 / cm.sum(axis=1)[:, np.newaxis]\n",
    "print(tabulate([cm.diagonal()], headers=['0' , '1' , '2' , '3', '4'], tablefmt='orgtbl'))\n"
   ]
  },
  {
   "cell_type": "code",
   "execution_count": 8,
   "metadata": {
    "colab": {
     "base_uri": "https://localhost:8080/",
     "height": 416
    },
    "colab_type": "code",
    "executionInfo": {
     "elapsed": 530426,
     "status": "ok",
     "timestamp": 1593417680215,
     "user": {
      "displayName": "Alexey M.",
      "photoUrl": "",
      "userId": "13008728338773453082"
     },
     "user_tz": -180
    },
    "id": "3GZq5nFiP2Eu",
    "outputId": "cd23dd25-d0e7-4ddd-c288-402c5f8be952"
   },
   "outputs": [
    {
     "data": {
      "text/plain": [
       "<Axes: title={'center': 'Confusion matrix, with normalization'}, xlabel='Predicted label', ylabel='True label'>"
      ]
     },
     "execution_count": 8,
     "metadata": {},
     "output_type": "execute_result"
    },
    {
     "data": {
      "image/png": "[encoded data removed]",
      "text/plain": [
       "<Figure size 640x480 with 2 Axes>"
      ]
     },
     "metadata": {},
     "output_type": "display_data"
    }
   ],
   "source": [
    "import matplotlib.pyplot as plt\n",
    "\n",
    "def plot_confusion_matrix(y_true, y_pred, classes,\n",
    "                          normalize=False,\n",
    "                          title=None,\n",
    "                          cmap=plt.cm.Purples):\n",
    "    \"\"\"\n",
    "    This function prints and plots the confusion matrix.\n",
    "    Normalization can be applied by setting `normalize=True`.\n",
    "    \"\"\"\n",
    "    if not title:\n",
    "        if normalize:\n",
    "            title = 'Normalized confusion matrix'\n",
    "        else:\n",
    "            title = 'Confusion matrix, without normalization'\n",
    "            \n",
    "    # Compute confusion matrix\n",
    "    cm = metrics.confusion_matrix(y_true, y_pred)\n",
    "    # Only use the labels that appear in the data\n",
    "    #classes = classes[unique_labels(y_true, y_pred)]\n",
    "    if normalize:\n",
    "        cm = cm.astype('float') / cm.sum(axis=1)[:, np.newaxis]\n",
    "\n",
    "    fig, ax = plt.subplots()\n",
    "    im = ax.imshow(cm, interpolation='nearest', cmap=cmap)\n",
    "    ax.figure.colorbar(im, ax=ax)\n",
    "    # We want to show all ticks...\n",
    "    ax.set(xticks=np.arange(cm.shape[1]),\n",
    "           yticks=np.arange(cm.shape[0]),\n",
    "           # ... and label them with the respective list entries\n",
    "           xticklabels=classes, yticklabels=classes,\n",
    "           title=title,\n",
    "           ylabel='True label',\n",
    "           xlabel='Predicted label')\n",
    "    # Rotate the tick labels and set their alignment.\n",
    "    plt.setp(ax.get_xticklabels(), rotation=45, ha=\"right\",\n",
    "             rotation_mode=\"anchor\")\n",
    "    # Loop over data dimensions and create text annotations.\n",
    "    fmt = '.2f' if normalize else 'd'\n",
    "    thresh = cm.max() / 2.\n",
    "    for i in range(cm.shape[0]):\n",
    "        for j in range(cm.shape[1]):\n",
    "            ax.text(j, i, format(cm[i, j], fmt),\n",
    "                    ha=\"center\", va=\"center\",\n",
    "                    color=\"white\" if cm[i, j] > thresh else \"black\")\n",
    "    fig.tight_layout()\n",
    "    return ax\n",
    "\n",
    "\n",
    "plot_confusion_matrix(ground_truth, predictions, classes=[\"0\", \"1\", \"2\", \"3\", \"4\"],normalize= True, title='Confusion matrix, with normalization')\n"
   ]
  }
 ],
 "metadata": {
  "accelerator": "GPU",
  "colab": {
   "authorship_tag": "ABX9TyMHLlianmzcIwJIaHSE/KgF",
   "collapsed_sections": [],
   "name": "Ensembles 2.0.ipynb",
   "provenance": [],
   "toc_visible": true
  },
  "kernelspec": {
   "display_name": "Python 3",
   "language": "python",
   "name": "python3"
  },
  "language_info": {
   "codemirror_mode": {
    "name": "ipython",
    "version": 3
   },
   "file_extension": ".py",
   "mimetype": "text/x-python",
   "name": "python",
   "nbconvert_exporter": "python",
   "pygments_lexer": "ipython3",
   "version": "3.10.11"
  }
 },
 "nbformat": 4,
 "nbformat_minor": 1
}
